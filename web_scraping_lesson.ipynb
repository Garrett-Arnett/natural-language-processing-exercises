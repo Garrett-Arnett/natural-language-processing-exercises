{
 "cells": [
  {
   "cell_type": "code",
   "execution_count": 2,
   "id": "10136789-4d6c-4e21-abed-ff72ac7d7770",
   "metadata": {},
   "outputs": [],
   "source": [
    "from bs4 import BeautifulSoup\n",
    "import requests"
   ]
  },
  {
   "cell_type": "code",
   "execution_count": 3,
   "id": "ccad2dfc-4ea3-4084-8017-0cac4f029e3e",
   "metadata": {},
   "outputs": [],
   "source": [
    "url = 'https://www.example.com/'"
   ]
  },
  {
   "cell_type": "code",
   "execution_count": 4,
   "id": "75eb2486-6a49-45fa-b17a-7ce118c644d1",
   "metadata": {},
   "outputs": [
    {
     "data": {
      "text/plain": [
       "<Response [200]>"
      ]
     },
     "execution_count": 4,
     "metadata": {},
     "output_type": "execute_result"
    }
   ],
   "source": [
    "response = requests.get(url)\n",
    "response"
   ]
  },
  {
   "cell_type": "code",
   "execution_count": 6,
   "id": "2751e483-3f1c-4c6c-9f01-5d98dbdc0767",
   "metadata": {},
   "outputs": [
    {
     "data": {
      "text/plain": [
       "'<!doctype html>\\n<html>\\n<head>\\n    <title>Example Domain</title>\\n\\n    <meta charset=\"utf-8\" />\\n    <meta http-equiv=\"Content-type\" content=\"text/html; charset=utf-8\" />\\n    <meta name=\"viewport\" content=\"width=device-width, initial-scale=1\" />\\n    <style type=\"text/css\">\\n    body {\\n        background-color: #f0f0f2;\\n        margin: 0;\\n        padding: 0;\\n        font-family: -apple-system, system-ui, BlinkMacSystemFont, \"Segoe UI\", \"Open Sans\", \"Helvetica Neue\", Helvetica, Arial, sans-serif;\\n        \\n    }\\n    div {\\n        width: 600px;\\n        margin: 5em auto;\\n        padding: 2em;\\n        background-color: #fdfdff;\\n        border-radius: 0.5em;\\n        box-shadow: 2px 3px 7px 2px rgba(0,0,0,0.02);\\n    }\\n    a:link, a:visited {\\n        color: #38488f;\\n        text-decoration: none;\\n    }\\n    @media (max-width: 700px) {\\n        div {\\n            margin: 0 auto;\\n            width: auto;\\n        }\\n    }\\n    </style>    \\n</head>\\n\\n<body>\\n<div>\\n    <h1>Example Domain</h1>\\n    <p>This domain is for use in illustrative examples in documents. You may use this\\n    domain in literature without prior coordination or asking for permission.</p>\\n    <p><a href=\"https://www.iana.org/domains/example\">More information...</a></p>\\n</div>\\n</body>\\n</html>\\n'"
      ]
     },
     "execution_count": 6,
     "metadata": {},
     "output_type": "execute_result"
    }
   ],
   "source": [
    "response.text"
   ]
  },
  {
   "cell_type": "code",
   "execution_count": 7,
   "id": "3ae4f6e5-099a-4676-9e91-be21b54628d0",
   "metadata": {},
   "outputs": [
    {
     "data": {
      "text/plain": [
       "b'<!doctype html>\\n<html>\\n<head>\\n    <title>Example Domain</title>\\n\\n    <meta charset=\"utf-8\" />\\n    <meta http-equiv=\"Content-type\" content=\"text/html; charset=utf-8\" />\\n    <meta name=\"viewport\" content=\"width=device-width, initial-scale=1\" />\\n    <style type=\"text/css\">\\n    body {\\n        background-color: #f0f0f2;\\n        margin: 0;\\n        padding: 0;\\n        font-family: -apple-system, system-ui, BlinkMacSystemFont, \"Segoe UI\", \"Open Sans\", \"Helvetica Neue\", Helvetica, Arial, sans-serif;\\n        \\n    }\\n    div {\\n        width: 600px;\\n        margin: 5em auto;\\n        padding: 2em;\\n        background-color: #fdfdff;\\n        border-radius: 0.5em;\\n        box-shadow: 2px 3px 7px 2px rgba(0,0,0,0.02);\\n    }\\n    a:link, a:visited {\\n        color: #38488f;\\n        text-decoration: none;\\n    }\\n    @media (max-width: 700px) {\\n        div {\\n            margin: 0 auto;\\n            width: auto;\\n        }\\n    }\\n    </style>    \\n</head>\\n\\n<body>\\n<div>\\n    <h1>Example Domain</h1>\\n    <p>This domain is for use in illustrative examples in documents. You may use this\\n    domain in literature without prior coordination or asking for permission.</p>\\n    <p><a href=\"https://www.iana.org/domains/example\">More information...</a></p>\\n</div>\\n</body>\\n</html>\\n'"
      ]
     },
     "execution_count": 7,
     "metadata": {},
     "output_type": "execute_result"
    }
   ],
   "source": [
    "response.content"
   ]
  },
  {
   "cell_type": "code",
   "execution_count": 9,
   "id": "ff172204-cb77-4442-ab02-39e9fa8620dd",
   "metadata": {},
   "outputs": [
    {
     "data": {
      "text/plain": [
       "<!DOCTYPE html>\n",
       "\n",
       "<html>\n",
       "<head>\n",
       "<title>Example Domain</title>\n",
       "<meta charset=\"utf-8\"/>\n",
       "<meta content=\"text/html; charset=utf-8\" http-equiv=\"Content-type\"/>\n",
       "<meta content=\"width=device-width, initial-scale=1\" name=\"viewport\"/>\n",
       "<style type=\"text/css\">\n",
       "    body {\n",
       "        background-color: #f0f0f2;\n",
       "        margin: 0;\n",
       "        padding: 0;\n",
       "        font-family: -apple-system, system-ui, BlinkMacSystemFont, \"Segoe UI\", \"Open Sans\", \"Helvetica Neue\", Helvetica, Arial, sans-serif;\n",
       "        \n",
       "    }\n",
       "    div {\n",
       "        width: 600px;\n",
       "        margin: 5em auto;\n",
       "        padding: 2em;\n",
       "        background-color: #fdfdff;\n",
       "        border-radius: 0.5em;\n",
       "        box-shadow: 2px 3px 7px 2px rgba(0,0,0,0.02);\n",
       "    }\n",
       "    a:link, a:visited {\n",
       "        color: #38488f;\n",
       "        text-decoration: none;\n",
       "    }\n",
       "    @media (max-width: 700px) {\n",
       "        div {\n",
       "            margin: 0 auto;\n",
       "            width: auto;\n",
       "        }\n",
       "    }\n",
       "    </style>\n",
       "</head>\n",
       "<body>\n",
       "<div>\n",
       "<h1>Example Domain</h1>\n",
       "<p>This domain is for use in illustrative examples in documents. You may use this\n",
       "    domain in literature without prior coordination or asking for permission.</p>\n",
       "<p><a href=\"https://www.iana.org/domains/example\">More information...</a></p>\n",
       "</div>\n",
       "</body>\n",
       "</html>"
      ]
     },
     "execution_count": 9,
     "metadata": {},
     "output_type": "execute_result"
    }
   ],
   "source": [
    "soup = BeautifulSoup(response.content, 'html.parser')\n",
    "soup"
   ]
  },
  {
   "cell_type": "code",
   "execution_count": 10,
   "id": "9d46314d-faf9-450a-8774-aaab95d89de3",
   "metadata": {},
   "outputs": [
    {
     "data": {
      "text/plain": [
       "bs4.BeautifulSoup"
      ]
     },
     "execution_count": 10,
     "metadata": {},
     "output_type": "execute_result"
    }
   ],
   "source": [
    "type(soup)"
   ]
  },
  {
   "cell_type": "code",
   "execution_count": 12,
   "id": "3e214794-de1e-4866-875d-34ea0c0cd18b",
   "metadata": {},
   "outputs": [
    {
     "data": {
      "text/plain": [
       "'Example Domain'"
      ]
     },
     "execution_count": 12,
     "metadata": {},
     "output_type": "execute_result"
    }
   ],
   "source": [
    "soup.h1.text"
   ]
  },
  {
   "cell_type": "code",
   "execution_count": 13,
   "id": "18e0a72c-b89a-45d0-b065-ae79f8895965",
   "metadata": {},
   "outputs": [
    {
     "data": {
      "text/plain": [
       "'This domain is for use in illustrative examples in documents. You may use this\\n    domain in literature without prior coordination or asking for permission.'"
      ]
     },
     "execution_count": 13,
     "metadata": {},
     "output_type": "execute_result"
    }
   ],
   "source": [
    "soup.p.text"
   ]
  },
  {
   "cell_type": "code",
   "execution_count": 14,
   "id": "7f8a11aa-e2b2-4470-85b2-a9b606b6abc6",
   "metadata": {},
   "outputs": [
    {
     "data": {
      "text/plain": [
       "<p>This domain is for use in illustrative examples in documents. You may use this\n",
       "    domain in literature without prior coordination or asking for permission.</p>"
      ]
     },
     "execution_count": 14,
     "metadata": {},
     "output_type": "execute_result"
    }
   ],
   "source": [
    "soup.find('p')"
   ]
  },
  {
   "cell_type": "code",
   "execution_count": 17,
   "id": "f4a5b3ae-1d2d-43db-8e16-3b241108f977",
   "metadata": {},
   "outputs": [],
   "source": [
    "para_list = soup.find_all(\"p\")"
   ]
  },
  {
   "cell_type": "code",
   "execution_count": 18,
   "id": "42db2c1c-44ea-490f-8142-898ac7f29ec7",
   "metadata": {},
   "outputs": [
    {
     "data": {
      "text/plain": [
       "[<p>This domain is for use in illustrative examples in documents. You may use this\n",
       "     domain in literature without prior coordination or asking for permission.</p>,\n",
       " <p><a href=\"https://www.iana.org/domains/example\">More information...</a></p>]"
      ]
     },
     "execution_count": 18,
     "metadata": {},
     "output_type": "execute_result"
    }
   ],
   "source": [
    "para_list"
   ]
  },
  {
   "cell_type": "code",
   "execution_count": 19,
   "id": "0b829415-8b22-41ef-88ed-1516afe3f608",
   "metadata": {},
   "outputs": [
    {
     "data": {
      "text/plain": [
       "' Using sleep'"
      ]
     },
     "execution_count": 19,
     "metadata": {},
     "output_type": "execute_result"
    }
   ],
   "source": [
    "''' Using sleep'''"
   ]
  },
  {
   "cell_type": "code",
   "execution_count": 20,
   "id": "7a832e67-0aa7-4072-94ba-e4e0814fa8a6",
   "metadata": {},
   "outputs": [],
   "source": [
    "import time"
   ]
  },
  {
   "cell_type": "code",
   "execution_count": 21,
   "id": "1eb85524-729b-46b0-af3f-4af4760aea97",
   "metadata": {},
   "outputs": [
    {
     "name": "stdout",
     "output_type": "stream",
     "text": [
      "hello\n",
      "world\n"
     ]
    }
   ],
   "source": [
    "print('hello')\n",
    "time.sleep(5)\n",
    "print('world')"
   ]
  },
  {
   "cell_type": "code",
   "execution_count": 22,
   "id": "5ce0950b-6fc0-4752-a622-e3667f0bd1ba",
   "metadata": {},
   "outputs": [],
   "source": [
    "response = requests.get('https://www.nytimes.com/')"
   ]
  },
  {
   "cell_type": "code",
   "execution_count": 23,
   "id": "983025c1-5f22-4f73-be58-7475c73503c4",
   "metadata": {},
   "outputs": [
    {
     "data": {
      "text/plain": [
       "<Response [200]>"
      ]
     },
     "execution_count": 23,
     "metadata": {},
     "output_type": "execute_result"
    }
   ],
   "source": [
    "response"
   ]
  },
  {
   "cell_type": "code",
   "execution_count": 24,
   "id": "e461671d-04ba-4317-89b4-4486433a7c37",
   "metadata": {},
   "outputs": [],
   "source": [
    "soup = BeautifulSoup(response.content, 'html.parser')"
   ]
  },
  {
   "cell_type": "code",
   "execution_count": 28,
   "id": "55370282-b56f-4b60-add4-85b6a8d8627d",
   "metadata": {},
   "outputs": [
    {
     "data": {
      "text/plain": [
       "[<a aria-hidden=\"false\" class=\"css-9mylee\" data-uri=\"nyt://legacycollection/e3d4880a-bf38-5eaa-a3a7-1f84e4932d81\" href=\"https://www.nytimes.com/live/2023/05/10/business/cpi-inflation-fed\"><h3 class=\"indicate-hover css-vnb41v\">U.S. Inflation</h3><div class=\"css-1xlo3nw\"><time aria-hidden=\"true\" class=\"css-12i6afj\" datetime=\"2023-05-10T15:57:24.989Z\"><div class=\"css-ki347z\"><span class=\"css-1stvlmo\" data-time=\"abs\">May 10, 2023, 11:57 a.m. ET</span><span class=\"css-kpxlkr\" data-time=\"rel\"></span></div></time><span aria-live=\"polite\" class=\"css-1dv1kvn\"></span></div></a>,\n",
       " <a aria-hidden=\"false\" class=\"css-9mylee\" data-uri=\"nyt://legacycollection/711ead88-4a5f-5314-90f3-b67b8e6f66cf\" href=\"https://www.nytimes.com/live/2023/05/10/nyregion/george-santos-charges-news\"><h3 class=\"indicate-hover css-vnb41v\">George Santos Case</h3><div class=\"css-1xlo3nw\"><time aria-hidden=\"true\" class=\"css-12i6afj\" datetime=\"2023-05-10T15:55:40.043Z\"><div class=\"css-ki347z\"><span class=\"css-1stvlmo\" data-time=\"abs\">May 10, 2023, 11:55 a.m. ET</span><span class=\"css-kpxlkr\" data-time=\"rel\"></span></div></time><span aria-live=\"polite\" class=\"css-1dv1kvn\"></span></div></a>,\n",
       " <a aria-hidden=\"false\" class=\"css-9mylee\" data-uri=\"nyt://legacycollection/711ead88-4a5f-5314-90f3-b67b8e6f66cf\" href=\"https://www.nytimes.com/live/2023/05/10/nyregion/george-santos-charges-news\"><div><div class=\"css-xdandi\"><h5 class=\"css-1txq2hu\">LIVE<time aria-hidden=\"true\" class=\"css-16lxk39\" datetime=\"2023-05-10T15:55:40.043Z\"><div class=\"css-ki347z\"><span class=\"css-1stvlmo\" data-time=\"abs\">May 10, 2023, 11:55 a.m. ET</span><span class=\"css-kpxlkr\" data-time=\"rel\"></span></div></time><span aria-live=\"polite\" class=\"css-1dv1kvn\"></span></h5><h3 class=\"indicate-hover css-si8ren\">Santos Faces Federal Charges That Include Wire Fraud and Money Laundering</h3></div><div class=\"css-197v62q\"></div><ul class=\"css-seo8xh\"><li class=\"summary-class\">Representative George Santos is also accused of theft of public funds and making materially false statements to the House.</li><li class=\"summary-class\">If convicted, he faces a prison sentence of up to 20 years on the top charge, officials say. He is expected to appear before a magistrate judge this afternoon.</li></ul></div><p class=\"css-ikai89\"> </p><div class=\"css-1xnr9ii\"></div><figure class=\"css-1uk1gs8\"><div class=\"css-wne2ji\"><picture class=\"css-hdqqnp\"><source class=\"css-hdqqnp\" media=\"screen and (min-width: 1px)\" srcset=\"https://static01.nyt.com/images/2023/05/10/multimedia/10ny-santos-01-zlfk/10ny-santos-01-zlfk-square320.jpg?format=pjpg&amp;quality=75&amp;auto=webp&amp;disable=upscale 1x, https://static01.nyt.com/images/2023/05/10/multimedia/10ny-santos-01-zlfk/10ny-santos-01-zlfk-square640.jpg?format=pjpg&amp;quality=75&amp;auto=webp&amp;disable=upscale 2x\"/><img alt=\"Rep. George Santos, wearing a suit and blue tie, sits alone in a row of leather seats.\" class=\"css-hdqqnp\" src=\"https://static01.nyt.com/images/2023/05/10/multimedia/10ny-santos-01-zlfk/10ny-santos-01-zlfk-square640.jpg?format=pjpg&amp;quality=75&amp;auto=webp&amp;disable=upscale\"/><noscript><img alt=\"Rep. George Santos, wearing a suit and blue tie, sits alone in a row of leather seats.\" class=\"css-122y91a\" src=\"https://static01.nyt.com/images/2023/05/10/multimedia/10ny-santos-01-zlfk/10ny-santos-01-zlfk-square640.jpg?format=pjpg&amp;quality=75&amp;auto=webp&amp;disable=upscale\"/></noscript></picture></div><figcaption aria-hidden=\"true\" class=\"css-1p5yz2j\"><span class=\"css-1j306sm\">Kenny Holston/The New York Times</span></figcaption></figure></a>,\n",
       " <a aria-hidden=\"false\" class=\"css-9mylee\" data-uri=\"nyt://article/7cb4002a-8954-511c-9588-2640281587d0\" href=\"https://www.nytimes.com/2023/05/10/nyregion/george-santos-charges.html\"><div><div class=\"css-xdandi\"><h3 class=\"indicate-hover css-66vf3i\">Here’s an overview of the charges against Representative George Santos.</h3></div><p class=\"css-1esztn\">2 min read</p></div></a>,\n",
       " <a aria-hidden=\"false\" class=\"css-9mylee\" data-uri=\"nyt://interactive/02b61c53-edfa-5005-864e-0804d05b73f4\" href=\"https://www.nytimes.com/interactive/2023/05/10/nyregion/george-santos-indictment.html\"><div><div class=\"css-xdandi\"><h3 class=\"indicate-hover css-66vf3i\">Read the indictment of George Santos.</h3></div></div></a>,\n",
       " <a aria-hidden=\"false\" class=\"css-9mylee\" data-uri=\"nyt://legacycollection/e3d4880a-bf38-5eaa-a3a7-1f84e4932d81\" href=\"https://www.nytimes.com/live/2023/05/10/business/cpi-inflation-fed\"><div><div class=\"css-xdandi\"><h5 class=\"css-1txq2hu\">LIVE<time aria-hidden=\"true\" class=\"css-16lxk39\" datetime=\"2023-05-10T15:57:24.989Z\"><div class=\"css-ki347z\"><span class=\"css-1stvlmo\" data-time=\"abs\">May 10, 2023, 11:57 a.m. ET</span><span class=\"css-kpxlkr\" data-time=\"rel\"></span></div></time><span aria-live=\"polite\" class=\"css-1dv1kvn\"></span></h5><h3 class=\"indicate-hover css-on97le\">Inflation in U.S. Slows Again as High Interest Rates Take Effect</h3></div><div class=\"css-197v62q\"></div><p class=\"summary-class css-1azn4ub\">The Consumer Price Index was up 4.9 percent in April from a year earlier. Price increases peaked just above 9 percent last summer.</p></div><p class=\"css-ikai89\"> </p><div class=\"css-1xnr9ii\"></div><figure class=\"css-1uk1gs8\"><div class=\"css-wne2ji\"><picture class=\"css-hdqqnp\"><source class=\"css-hdqqnp\" media=\"screen and (min-width: 1px)\"/><img alt=\"\" class=\"css-dzl7b5\" loading=\"lazy\"/><noscript><img alt=\"\" class=\"css-122y91a\" src=\"https://static01.nyt.com/images/2023/05/09/business/inflation-overall-promo/inflation-overall-promo-square640-v3.png?format=pjpg&amp;quality=75&amp;auto=webp&amp;disable=upscale\"/></noscript></picture></div><figcaption aria-hidden=\"true\" class=\"css-1p5yz2j\"><span class=\"css-1j306sm\">Karl Russell</span></figcaption></figure></a>,\n",
       " <a aria-hidden=\"false\" class=\"css-9mylee\" data-uri=\"nyt://article/47534553-940e-5a39-bbb4-e42294477721\" href=\"https://www.nytimes.com/2023/05/10/us/politics/covid-public-health-emergency.html\"><div><div class=\"css-xdandi\"><h3 class=\"indicate-hover css-on97le\">As Covid Emergency Ends, U.S. Response Shifts to ‘Peacetime’ Mode</h3></div><div class=\"css-197v62q\"></div><p class=\"summary-class css-1azn4ub\">Although the official public health emergency will be over this week, interviews with health officials suggest the nation is not ready for a new pandemic.</p><p class=\"css-1esztn\">7 min read</p></div><div class=\"css-1xnr9ii\"></div><figure class=\"css-1uk1gs8\"><div class=\"css-wne2ji\"><picture class=\"css-hdqqnp\"><source class=\"css-hdqqnp\" media=\"screen and (min-width: 1px)\"/><img alt=\"\" class=\"css-dzl7b5\" loading=\"lazy\"/><noscript><img alt=\"\" class=\"css-122y91a\" src=\"https://static01.nyt.com/images/2023/05/10/multimedia/10virus-promo-HP-01-kmzp/10virus-promo-HP-01-kmzp-square640.jpg?format=pjpg&amp;quality=75&amp;auto=webp&amp;disable=upscale\"/></noscript></picture></div><figcaption aria-hidden=\"true\" class=\"css-1p5yz2j\"><span class=\"css-1j306sm\">Hiroko Masuike/The New York Times</span></figcaption></figure></a>,\n",
       " <a aria-hidden=\"false\" class=\"css-9mylee\" data-uri=\"nyt://article/fda33ff9-dbf3-5b91-8ad8-29fc5070e69e\" href=\"https://www.nytimes.com/2023/05/10/nyregion/covid-public-health-emergency-end-nyc.html\"><div><div class=\"css-xdandi\"><h3 class=\"indicate-hover css-66vf3i\">What does the end of the Covid health emergency mean for New York City?</h3></div><p class=\"css-1esztn\">4 min read</p></div></a>,\n",
       " <a aria-hidden=\"false\" class=\"css-9mylee\" data-uri=\"nyt://article/cfc12edf-bdc8-5d16-a8b8-6f7c19d5686e\" href=\"https://www.nytimes.com/2023/05/10/us/politics/trump-carroll-verdict-campaign.html\"><div><div class=\"css-xdandi\"><h3 class=\"indicate-hover css-on97le\">For Trump, a Verdict That’s Harder to Spin</h3></div><div class=\"css-197v62q\"></div><p class=\"summary-class css-1azn4ub\">Analysis: Donald Trump’s supporters backed him after an indictment in Manhattan. But a jury’s decision in a separate case may yet carry a political price.</p><p class=\"css-1esztn\">4 min read</p></div><div class=\"css-1xnr9ii\"></div><figure class=\"css-1uk1gs8\"><div class=\"css-wne2ji\"><picture class=\"css-hdqqnp\"><source class=\"css-hdqqnp\" media=\"screen and (min-width: 1px)\"/><img alt=\"Donald Trump stands on a stage looking to the right of the frame. A blue curtain is in the background, and American flag stands on the right with a golden eagle atop the pole.\" class=\"css-dzl7b5\" loading=\"lazy\"/><noscript><img alt=\"Donald Trump stands on a stage looking to the right of the frame. A blue curtain is in the background, and American flag stands on the right with a golden eagle atop the pole.\" class=\"css-122y91a\" src=\"https://static01.nyt.com/images/2023/05/10/multimedia/10pol-trump-memo-chqw/10pol-trump-memo-chqw-square640.jpg?format=pjpg&amp;quality=75&amp;auto=webp&amp;disable=upscale\"/></noscript></picture></div><figcaption aria-hidden=\"true\" class=\"css-1p5yz2j\"><span class=\"css-1j306sm\">Sophie Park for The New York Times</span></figcaption></figure></a>,\n",
       " <a aria-hidden=\"false\" class=\"css-9mylee\" data-uri=\"nyt://article/90362c43-523e-51c3-bae3-3e03b7529e40\" href=\"https://www.nytimes.com/2023/05/10/nyregion/trump-carroll-truth-social.html\"><div><div class=\"css-xdandi\"><h3 class=\"indicate-hover css-66vf3i\">After he was found liable for sexual abuse and defamation, former President Trump again said E. Jean Carroll lied.</h3></div><p class=\"css-1esztn\">2 min read</p></div></a>,\n",
       " <a aria-hidden=\"false\" class=\"css-9mylee\" data-uri=\"nyt://article/b3779bc3-1c09-517a-80b7-36e247734f0a\" href=\"https://www.nytimes.com/2023/05/10/podcasts/the-daily/e-jean-carroll-trump-verdict.html\"><div><div class=\"css-xdandi\"><h3 class=\"indicate-hover css-66vf3i\">Listen to “The Daily”: Here’s how the jury in E. Jean Carroll’s case against former President Trump reached a verdict.</h3></div></div></a>,\n",
       " <a aria-hidden=\"false\" class=\"css-9mylee\" data-uri=\"nyt://article/e5e284da-fb4c-5b4c-a16a-117d4711a58c\" href=\"https://www.nytimes.com/2023/05/10/business/cnn-trump-town-hall.html\"><div><div class=\"css-xdandi\"><h3 class=\"indicate-hover css-66vf3i\">Former President Trump is set to appear on CNN on Wednesday night, and a torrid media debate is swirling.</h3></div><p class=\"css-1esztn\">4 min read</p></div></a>,\n",
       " <a aria-hidden=\"false\" class=\"css-9mylee\" data-uri=\"nyt://article/da0d7e06-f576-5ff5-86c8-5d0adf59d7e8\" href=\"https://www.nytimes.com/2023/05/10/science/pangenome-human-dna-genetics.html\"><div><div class=\"css-xdandi\"><h3 class=\"indicate-hover css-on97le\">Scientists Unveil a More Diverse Human Genome</h3></div><div class=\"css-197v62q\"></div><p class=\"summary-class css-1azn4ub\">The “pangenome,” which collated genetic sequences from 47 people of diverse ethnic backgrounds, could greatly expand the reach of personalized medicine.</p><p class=\"css-1esztn\">4 min read</p></div><div class=\"css-1xnr9ii\"></div><figure class=\"css-1uk1gs8\"><div class=\"css-ho9dtj\"><picture class=\"css-hdqqnp\"><source class=\"css-hdqqnp\" media=\"screen and (max-width: 600px)\"/><img alt=\"A graph showing the new genome map has 18 rows of 12 color bands, with each band representing a single nucleotide variant. They are colored in orange, purple, pink, blue, yellow, green, dark blue, and other colors. \" class=\"css-dzl7b5\" loading=\"lazy\"/><noscript><img alt=\"A graph showing the new genome map has 18 rows of 12 color bands, with each band representing a single nucleotide variant. They are colored in orange, purple, pink, blue, yellow, green, dark blue, and other colors. \" class=\"css-122y91a\" src=\"https://static01.nyt.com/images/2023/05/10/science/10GENOME2/10GENOME2-threeByTwoSmallAt2X.jpg?format=pjpg&amp;quality=75&amp;auto=webp&amp;disable=upscale\"/></noscript></picture></div><figcaption aria-hidden=\"true\" class=\"css-1p5yz2j\"><span class=\"css-1j306sm\">Darryl Leja/NHGRI</span></figcaption></figure></a>,\n",
       " <a aria-hidden=\"false\" class=\"css-9mylee\" data-uri=\"nyt://article/1d1ca516-e474-570a-b26e-c994b7371bc7\" href=\"https://www.nytimes.com/2023/05/10/business/live-shopping-us.html\"><div><div class=\"css-xdandi\"><h3 class=\"indicate-hover css-on97le\">The Companies Trying to Make Live Shopping a Thing in the U.S.</h3></div><div class=\"css-197v62q\"></div><p class=\"summary-class css-1azn4ub\">The market for selling goods in real time online is relatively small, but some start-ups and big tech names are betting consumers will catch on.</p><p class=\"css-1esztn\">6 min read</p></div><div class=\"css-1xnr9ii\"></div><figure class=\"css-1uk1gs8\"><div class=\"css-wne2ji\"><picture class=\"css-hdqqnp\"><source class=\"css-hdqqnp\" media=\"screen and (min-width: 1px)\"/><img alt=\"A dark-haired woman sits on the floor surrounded by clothes, and holding a high-heeled shoe in her right hand.\" class=\"css-dzl7b5\" loading=\"lazy\"/><noscript><img alt=\"A dark-haired woman sits on the floor surrounded by clothes, and holding a high-heeled shoe in her right hand.\" class=\"css-122y91a\" src=\"https://static01.nyt.com/images/2023/04/18/multimedia/00Live-Shopping-DeSorbo-01-lpzf/00Live-Shopping-DeSorbo-01-lpzf-square640.jpg?format=pjpg&amp;quality=75&amp;auto=webp&amp;disable=upscale\"/></noscript></picture></div><figcaption aria-hidden=\"true\" class=\"css-1p5yz2j\"><span class=\"css-1j306sm\">Gili Benita for The New York Times</span></figcaption></figure></a>,\n",
       " <a aria-hidden=\"false\" class=\"css-9mylee\" data-uri=\"nyt://article/f4437069-cbce-598f-a45f-f8c3c6fc12dd\" href=\"https://www.nytimes.com/2023/05/10/world/europe/ukraine-russia-kherson-killing.html\"><div><div class=\"css-xdandi\"><h3 class=\"indicate-hover css-on97le\">‘Death Is Everywhere’ in a Once-Jubilant Ukrainian City</h3></div><div class=\"css-197v62q\"></div><p class=\"summary-class css-1azn4ub\">No city in Ukraine has suffered the reversal of fortunes that Kherson has. Liberated in the fall, it was a symbol of hope. Now it is a kill zone.</p><p class=\"css-1esztn\">5 min read</p></div><div class=\"css-1xnr9ii\"></div><figure class=\"css-1uk1gs8\"><div class=\"css-1k5swdl\"><div class=\"css-5qsr3h\"><div class=\"slideshow-animate css-17drwyv\"><div class=\"slideshow-animate css-y3q9q4\"></div><div class=\"css-wne2ji\"><picture class=\"slideshow-animate css-e5vw35\"><source class=\"slideshow-animate css-e5vw35\" media=\"screen and (min-width: 1px)\"/><img alt=\"\" class=\"slideshow-animate css-3kzcvh\" loading=\"lazy\"/><noscript><img alt=\"\" class=\"css-122y91a\" src=\"https://static01.nyt.com/images/2023/05/10/multimedia/10ukraine-kherson-FDR-01/10ukraine-kherson-01-qkpz-square640.jpg?format=pjpg&amp;quality=75&amp;auto=webp&amp;disable=upscale\"/></noscript></picture></div><div class=\"slideshow-animate css-12kq0ez\">Finbarr O'Reilly for The New York Times</div></div><div class=\"css-1iubrw4 slideshow-animate\"><div class=\"slideshow-animate css-y3q9q4\"></div><div class=\"css-wne2ji\"><picture class=\"slideshow-animate css-e5vw35\"><source class=\"slideshow-animate css-e5vw35\" media=\"screen and (min-width: 1px)\"/><img alt=\"\" class=\"slideshow-animate css-3kzcvh\" loading=\"lazy\"/><noscript><img alt=\"\" class=\"css-122y91a\" src=\"https://static01.nyt.com/images/2023/05/10/multimedia/10ukraine-kherson-FDR-02/10ukraine-kherson-02-qkpz-square640.jpg?format=pjpg&amp;quality=75&amp;auto=webp&amp;disable=upscale\"/></noscript></picture></div><div class=\"slideshow-animate css-12kq0ez\">Finbarr O'Reilly for The New York Times</div></div><div class=\"css-1iubrw4 slideshow-animate\"><div class=\"slideshow-animate css-y3q9q4\"></div><div class=\"css-wne2ji\"><picture class=\"slideshow-animate css-e5vw35\"><source class=\"slideshow-animate css-e5vw35\" media=\"screen and (min-width: 1px)\"/><img alt=\"\" class=\"slideshow-animate css-3kzcvh\" loading=\"lazy\"/><noscript><img alt=\"\" class=\"css-122y91a\" src=\"https://static01.nyt.com/images/2023/05/10/multimedia/10ukraine-kherson-FDR-03/10ukraine-kherson-04-qkpz-square640.jpg?format=pjpg&amp;quality=75&amp;auto=webp&amp;disable=upscale\"/></noscript></picture></div><div class=\"slideshow-animate css-12kq0ez\">Lynsey Addario for The New York Times</div></div><div class=\"css-1iubrw4 slideshow-animate\"><div class=\"slideshow-animate css-y3q9q4\"></div><div class=\"css-wne2ji\"><picture class=\"slideshow-animate css-e5vw35\"><source class=\"slideshow-animate css-e5vw35\" media=\"screen and (min-width: 1px)\"/><img alt=\"\" class=\"slideshow-animate css-3kzcvh\" loading=\"lazy\"/><noscript><img alt=\"\" class=\"css-122y91a\" src=\"https://static01.nyt.com/images/2023/05/10/multimedia/10ukraine-kherson-FDR-04/10ukraine-kherson-05-qkpz-square640.jpg?format=pjpg&amp;quality=75&amp;auto=webp&amp;disable=upscale\"/></noscript></picture></div><div class=\"slideshow-animate css-12kq0ez\">Finbarr O'Reilly for The New York Times</div></div><div class=\"css-1iubrw4 slideshow-animate\"><div class=\"slideshow-animate css-y3q9q4\"></div><div class=\"css-wne2ji\"><picture class=\"slideshow-animate css-e5vw35\"><source class=\"slideshow-animate css-e5vw35\" media=\"screen and (min-width: 1px)\"/><img alt=\"\" class=\"slideshow-animate css-3kzcvh\" loading=\"lazy\"/><noscript><img alt=\"\" class=\"css-122y91a\" src=\"https://static01.nyt.com/images/2023/05/10/multimedia/10ukraine-kherson-FDR-05/10ukraine-kherson-06-qkpz-square640.jpg?format=pjpg&amp;quality=75&amp;auto=webp&amp;disable=upscale\"/></noscript></picture></div><div class=\"slideshow-animate css-12kq0ez\">Finbarr O'Reilly for The New York Times</div></div></div></div></figure></a>,\n",
       " <a aria-hidden=\"false\" class=\"css-9mylee\" data-uri=\"nyt://legacycollection/e55ed892-e27a-59e4-bb12-d240fb279ee1\" href=\"https://www.nytimes.com/live/2023/05/10/world/russia-ukraine-news\"><div><div class=\"css-xdandi\"><h3 class=\"indicate-hover css-66vf3i\">Ukraine claimed it had made gains near the eastern city of Bakhmut, as deadly fighting continued.</h3></div></div><p class=\"css-ikai89\"> </p></a>,\n",
       " <a aria-hidden=\"false\" class=\"css-9mylee\" data-uri=\"nyt://article/3bffcb4f-7b6b-51ba-a976-cad300e8cda7\" href=\"https://www.nytimes.com/2023/05/10/business/biden-debt-ceiling.html\"><div><div class=\"css-xdandi\"><h3 class=\"indicate-hover css-on97le\">How Might the Government Avoid Default? Biden Offers Clues.</h3></div><div class=\"css-197v62q\"></div><p class=\"summary-class css-1azn4ub\">After making little progress with Republican leaders on Tuesday, President Biden previewed two possible endgames to resolve a debt-limit standoff.</p><p class=\"css-1esztn\">5 min read</p></div><div class=\"css-1xnr9ii\"></div><figure class=\"css-1uk1gs8\"><div class=\"css-wne2ji\"><picture class=\"css-hdqqnp\"><source class=\"css-hdqqnp\" media=\"screen and (min-width: 1px)\"/><img alt=\"President Biden speaking behind a lectern with the presidential seal, with flags and a fireplace behind him.\" class=\"css-dzl7b5\" loading=\"lazy\"/><noscript><img alt=\"President Biden speaking behind a lectern with the presidential seal, with flags and a fireplace behind him.\" class=\"css-122y91a\" src=\"https://static01.nyt.com/images/2023/05/10/multimedia/10dc-Biden-Assess-qwhz/10dc-Biden-Assess-qwhz-square640.jpg?format=pjpg&amp;quality=75&amp;auto=webp&amp;disable=upscale\"/></noscript></picture></div><figcaption aria-hidden=\"true\" class=\"css-1p5yz2j\"><span class=\"css-1j306sm\">Doug Mills/The New York Times</span></figcaption></figure></a>,\n",
       " <a aria-hidden=\"false\" class=\"css-9mylee\" data-uri=\"nyt://interactive/d9c13dc7-fe19-551e-96b2-d14dfb53d0dc\" href=\"https://www.nytimes.com/interactive/2023/05/09/magazine/hurricane-saildrone.html\"><figure class=\"css-1uk1gs8\"><div class=\"css-sxmela full-width-span-vw container-margin-none\" data-hp-full-width=\"true\"><div class=\"css-wne2ji\"><div></div></div><figcaption aria-hidden=\"true\" class=\"css-1kpof33\"><span class=\"css-1j306sm\">Illustrations by Wesley Allsbrook; Graphics by La Tigre</span></figcaption></div></figure><div class=\"css-1xnr9ii\"></div><div class=\"css-zirthl\"><h3 class=\"indicate-hover css-155pfad\">A Journey So Dangerous the Boat Sails Alone</h3><p class=\"summary-class css-1azn4ub\">Learning the secrets of a warming ocean means steering straight into the biggest hurricanes. Enter the Saildrone.</p></div></a>,\n",
       " <a aria-hidden=\"false\" class=\"css-9mylee\" data-uri=\"nyt://article/e4a31205-8c11-5817-878b-0fea393da66c\" href=\"https://www.nytimes.com/2023/05/10/magazine/buffalo-shooting-barbara-massey-mapps.html\"><div><div class=\"css-xdandi\"><h3 class=\"indicate-hover css-1ozlsow\">Grief, Vengeance and a Crime Too Terrible to Forgive</h3></div><div class=\"css-197v62q\"></div><p class=\"summary-class css-1azn4ub\">Court hearings, media scrums, ruined holidays — Barbara Massey-Mapps suffered through it all to see the white supremacist who killed her sister convicted.</p><p class=\"css-1esztn\">19 min read</p></div><div class=\"css-1xnr9ii\"></div><figure class=\"css-1uk1gs8\"><div class=\"css-ho9dtj\"><picture class=\"css-hdqqnp\"><source class=\"css-hdqqnp\" media=\"screen and (max-width: 600px)\"/><img alt=\"Barbara Massey-Mapps, wearing a t-shirt and a blue zip-up jacket, looking away from the camera.\" class=\"css-dzl7b5\" loading=\"lazy\"/><noscript><img alt=\"Barbara Massey-Mapps, wearing a t-shirt and a blue zip-up jacket, looking away from the camera.\" class=\"css-122y91a\" src=\"https://static01.nyt.com/images/2023/05/14/magazine/14mag-buffalo/14mag-buffalo-threeByTwoSmallAt2X.jpg?format=pjpg&amp;quality=75&amp;auto=webp&amp;disable=upscale\"/></noscript></picture></div><figcaption aria-hidden=\"true\" class=\"css-1p5yz2j\"><span class=\"css-1j306sm\">Joshua Thermidor</span></figcaption></figure></a>,\n",
       " <a aria-hidden=\"false\" class=\"css-9mylee\" data-uri=\"nyt://legacycollection/fdbcc424-f36f-56cf-bec0-bfafa824da5f\" href=\"https://www.nytimes.com/live/2023/05/09/sports/westminster-dog-show\"><div><div class=\"css-xdandi\"><h3 class=\"indicate-hover css-on97le\">Buddy Holly Wins Best in Show at Westminster</h3></div><div class=\"css-197v62q\"></div><p class=\"summary-class css-1azn4ub\">The first petit basset griffon Vendéen to win the top prize at the Westminster Dog Show, Buddy Holly held off six other group champions to triumph.</p></div><p class=\"css-ikai89\"> </p></a>,\n",
       " <a aria-hidden=\"false\" class=\"css-9mylee\" data-uri=\"nyt://article/ddc33e9e-0fe1-5c7b-badc-74420f86126e\" href=\"https://www.nytimes.com/2023/05/10/world/middleeast/cleopatra-netflix-race-egypt.html\"><figure class=\"css-1uk1gs8\"><div class=\"css-sxmela full-width-span-vw container-margin-none\" data-hp-full-width=\"true\"><div class=\"css-wne2ji\"><picture class=\"css-hdqqnp\"><source class=\"css-hdqqnp\" media=\"screen and (min-width: 1px)\"/><img alt=\"Adele James plays Cleopatra in the Netflix show.\" class=\"css-dzl7b5\" loading=\"lazy\"/><noscript><img alt=\"Adele James plays Cleopatra in the Netflix show.\" class=\"css-122y91a\" src=\"https://static01.nyt.com/images/2023/05/08/multimedia/00egypt-cleopatra-2-jhgf/00egypt-cleopatra-2-jhgf-square640.jpg?format=pjpg&amp;quality=75&amp;auto=webp&amp;disable=upscale\"/></noscript></picture></div><figcaption aria-hidden=\"true\" class=\"css-1kpof33\"><span class=\"css-1j306sm\">Netflix</span></figcaption></div></figure><div class=\"css-1xnr9ii\"></div><div class=\"css-zirthl\"><h3 class=\"indicate-hover css-155pfad\">Whose Queen? Netflix and Egypt Spar Over an African Cleopatra.</h3><p class=\"summary-class css-1azn4ub\">Egyptians say the ancient queen is being dragged into a modern, and decidedly Western, debate about Black representation in Hollywood.</p><p class=\"css-1esztn\">6 min read</p></div></a>,\n",
       " <a aria-hidden=\"false\" class=\"css-9mylee\" data-uri=\"nyt://article/83ae5ad7-0d26-515c-9b74-84ec0a21f789\" href=\"https://www.nytimes.com/2023/05/10/magazine/grandchildren-stalking-custody-ethics.html\"><div class=\"css-oz0kdv\"><div class=\"css-8l3tpl e17qa79g0\" span=\"3\"><section class=\"story-wrapper\"><figure class=\"css-1uk1gs8\"><div class=\"css-ho9dtj\"><picture class=\"css-hdqqnp\"><source class=\"css-hdqqnp\" media=\"screen and (max-width: 600px)\"/><img alt=\"An illustration showing three children in animal costumes on a stage in front of a crowd of excited parents. In the very back of the room, an older woman wearing a shawl and sunglasses stands in a doorway watching the play.\" class=\"css-dzl7b5\" loading=\"lazy\"/><noscript><img alt=\"An illustration showing three children in animal costumes on a stage in front of a crowd of excited parents. In the very back of the room, an older woman wearing a shawl and sunglasses stands in a doorway watching the play.\" class=\"css-122y91a\" src=\"https://static01.nyt.com/images/2023/05/14/magazine/14mag-ethicist-online/14mag-ethicist-online-threeByTwoSmallAt2X.jpg?format=pjpg&amp;quality=75&amp;auto=webp&amp;disable=upscale\"/></noscript></picture></div></figure><div class=\"css-197v62q\"></div><div><div class=\"css-xdandi\"><h3 class=\"indicate-hover css-1gb49m4\">Am I stalking my own grandchildren? I miss them terribly.</h3></div><p class=\"css-1esztn\">5 min read</p></div></section></div></div></a>,\n",
       " <a aria-hidden=\"false\" class=\"css-9mylee\" data-uri=\"nyt://article/bf910a6e-a90f-5e86-bbe0-5aeca7559c49\" href=\"https://www.nytimes.com/2023/05/10/world/middleeast/fruit-roll-ups-smuggle-israel-tiktok.html\"><div class=\"css-oz0kdv\"><div class=\"css-8l3tpl e17qa79g0\" span=\"3\"><section class=\"story-wrapper\"><figure class=\"css-1uk1gs8\"><div class=\"css-ho9dtj\"><picture class=\"css-hdqqnp\"><source class=\"css-hdqqnp\" media=\"screen and (max-width: 600px)\"/><img alt=\"A grocery shelf with three boxes of Fruit Roll-Ups facing the aisle.\" class=\"css-dzl7b5\" loading=\"lazy\"/><noscript><img alt=\"A grocery shelf with three boxes of Fruit Roll-Ups facing the aisle.\" class=\"css-122y91a\" src=\"https://static01.nyt.com/images/2023/05/10/world/10xp-fruitrollups/10xp-fruitrollups-threeByTwoSmallAt2X.jpg?format=pjpg&amp;quality=75&amp;auto=webp&amp;disable=upscale\"/></noscript></picture></div></figure><div class=\"css-197v62q\"></div><div><div class=\"css-xdandi\"><h3 class=\"indicate-hover css-1gb49m4\">Here’s why Americans are smuggling Fruit Roll-Ups Into Israel.</h3></div><p class=\"css-1esztn\">3 min read</p></div></section></div></div></a>,\n",
       " <a aria-hidden=\"false\" class=\"css-9mylee\" data-uri=\"\" href=\"https://www.nytimes.com/section/opinion\"><div class=\"css-1qa12lp\"><span>Opinion</span></div></a>,\n",
       " <a aria-hidden=\"false\" class=\"css-9mylee\" data-uri=\"nyt://article/eed5d538-d531-57b3-ada8-dd45e9e03ea7\" href=\"https://www.nytimes.com/2023/05/10/opinion/e-jean-carroll-donald-trump-verdict.html\"><div class=\"css-1ev7bio\"><div class=\"css-6v3ju5 e17qa79g0\" span=\"4\"><section class=\"story-wrapper\"><div><div class=\"css-0\"><h3 class=\"css-1hgbvll\">David French</h3><h3 class=\"indicate-hover css-dgqyc1\">A Guilty Ex-President</h3></div><p class=\"css-1esztn\">4 min read</p></div></section></div><div class=\"css-cw4snp e17qa79g0\" span=\"4\"><figure class=\"css-1uk1gs8\"><div class=\"css-wne2ji\"><picture class=\"css-hdqqnp\"><source class=\"css-hdqqnp\" media=\"screen and (max-width: 600px)\"/><img alt=\"A black and white photo of E. Jean Carroll entering Federal District Court in Manhattan. \" class=\"css-dzl7b5\" loading=\"lazy\"/><noscript><img alt=\"A black and white photo of E. Jean Carroll entering Federal District Court in Manhattan. \" class=\"css-122y91a\" src=\"https://static01.nyt.com/images/2023/05/09/multimedia/09French-cpwq/09French-cpwq-square320-v2.jpg?format=pjpg&amp;quality=75&amp;auto=webp&amp;disable=upscale\"/></noscript></picture></div></figure></div></div></a>,\n",
       " <a aria-hidden=\"false\" class=\"css-9mylee\" data-uri=\"nyt://article/7dc583cf-ac9c-5257-b9ea-fc1764f0b7ce\" href=\"https://www.nytimes.com/2023/05/09/opinion/jordan-neely-subway-death.html\"><section class=\"story-wrapper\"><div><div class=\"css-0\"><h3 class=\"css-1hgbvll\">John McWhorter</h3><h3 class=\"indicate-hover css-9dj29s\">A Killing on the F Train</h3></div><p class=\"css-1esztn\">5 min read</p></div></section></a>,\n",
       " <a aria-hidden=\"false\" class=\"css-9mylee\" data-uri=\"nyt://article/2ac88b5b-2b5b-57ca-b2df-97bdba9c0e31\" href=\"https://www.nytimes.com/2023/05/10/opinion/matter-of-opinion.html\"><section class=\"story-wrapper\"><div><div class=\"css-0\"><h3 class=\"indicate-hover css-9dj29s\">Introducing ‘Matter of Opinion’</h3></div></div></section></a>,\n",
       " <a aria-hidden=\"false\" class=\"css-9mylee\" data-uri=\"nyt://article/d6358c15-508b-512b-8769-dc8c42d14d69\" href=\"https://www.nytimes.com/2023/05/10/opinion/christian-religion-brand-nones.html\"><section class=\"story-wrapper\"><div><div class=\"css-0\"><h3 class=\"css-1hgbvll\">Jessica Grose</h3><h3 class=\"indicate-hover css-9dj29s\">‘Christianity’s Got a Branding Problem’</h3></div><p class=\"css-1esztn\">6 min read</p></div></section></a>,\n",
       " <a aria-hidden=\"false\" class=\"css-9mylee\" data-uri=\"nyt://article/95784775-6d75-5fcd-96ef-b31f23de9cc2\" href=\"https://www.nytimes.com/2023/05/10/opinion/letters/debt-limit-biden-mccarthy.html\"><section class=\"story-wrapper\"><div><div class=\"css-0\"><h3 class=\"css-1hgbvll\">Letters From Our Readers</h3><h3 class=\"indicate-hover css-9dj29s\">The Impasse Over Raising the Debt Limit</h3></div><p class=\"css-1esztn\">3 min read</p></div></section></a>,\n",
       " <a aria-hidden=\"false\" class=\"css-9mylee\" data-uri=\"nyt://article/475cc9ce-82d0-57db-829a-7987723f2a69\" href=\"https://www.nytimes.com/2023/05/09/opinion/russia-war-ukraine-nuclear.html\"><section class=\"story-wrapper\"><div><div class=\"css-0\"><h3 class=\"css-1hgbvll\">Timothy Snyder</h3><h3 class=\"indicate-hover css-9dj29s\">Putin Is Fighting, and Losing, His Last War</h3></div><p class=\"css-1esztn\">5 min read</p></div></section></a>,\n",
       " <a aria-hidden=\"false\" class=\"css-9mylee\" data-uri=\"nyt://article/0d83d5d9-cd4c-58de-abc1-ab7a61cf8450\" href=\"https://www.nytimes.com/2023/05/09/opinion/urban-gardens-rewilding-cities-biodiversity.html\"><section class=\"story-wrapper\"><div><div class=\"css-0\"><h3 class=\"css-1hgbvll\">Ben Wilson</h3><h3 class=\"indicate-hover css-9dj29s\">Let the Post-Pandemic City Grow Wild</h3></div><p class=\"css-1esztn\">5 min read</p></div></section></a>,\n",
       " <a aria-hidden=\"false\" class=\"css-9mylee\" data-uri=\"nyt://interactive/e756f227-9d14-5ff3-bb37-a685ac0d709e\" href=\"https://www.nytimes.com/interactive/2023/05/09/opinion/union-members-focus-group.html\"><section class=\"story-wrapper\"><div><div class=\"css-0\"><h3 class=\"indicate-hover css-9dj29s\">This Focus Group Had One Thing in Common, and It Wasn’t Biden, Trump, or Anyone Else</h3></div></div></section></a>,\n",
       " <a aria-hidden=\"false\" class=\"css-9mylee\" data-uri=\"nyt://article/e5619fb9-1691-5b6e-b182-1867fda061fe\" href=\"https://www.nytimes.com/2023/05/09/opinion/climate-inflation-reduction-act-biden.html\"><section class=\"story-wrapper\"><div><div class=\"css-0\"><h3 class=\"css-1hgbvll\">Paul Krugman</h3><h3 class=\"indicate-hover css-9dj29s\">How to Think About Green Industrial Policy</h3></div><p class=\"css-1esztn\">4 min read</p></div></section></a>,\n",
       " <a aria-hidden=\"false\" class=\"css-9mylee\" data-uri=\"nyt://article/b3779bc3-1c09-517a-80b7-36e247734f0a\" href=\"https://www.nytimes.com/2023/05/10/podcasts/the-daily/e-jean-carroll-trump-verdict.html\"><div class=\"css-b6n3ve\"><div class=\"css-6v3ju5 e17qa79g0\" span=\"4\"><section class=\"story-wrapper\"><div><div class=\"css-xdandi\"><h3 class=\"indicate-hover css-66vf3i\">Listen to ‘The Daily’</h3></div><div class=\"css-197v62q\"></div><p class=\"summary-class css-1azn4ub\">Here’s how E. Jean Carroll’s case against former President Trump reached a verdict.</p></div></section></div><div class=\"css-1fvhbq8 e17qa79g0\" span=\"2\"><figure class=\"css-1uk1gs8\"><div class=\"css-wne2ji\"><picture class=\"css-hdqqnp\"><source class=\"css-hdqqnp\" media=\"screen and (max-width: 600px)\"/><img alt=\"\" class=\"css-dzl7b5\" loading=\"lazy\"/><noscript><img alt=\"\" class=\"css-122y91a\" src=\"https://static01.nyt.com/images/2017/01/29/podcasts/the-daily-album-art/the-daily-album-art-square320-v5.jpg?format=pjpg&amp;quality=75&amp;auto=webp&amp;disable=upscale\"/></noscript></picture></div></figure></div></div></a>,\n",
       " <a aria-hidden=\"false\" class=\"css-9mylee\" data-uri=\"nyt://article/a0eb8928-9f98-5e5c-98e3-2857988d0b8e\" href=\"https://www.nytimes.com/2023/05/10/briefing/e-jean-carroll-trump-liable-sexual-abuse.html\"><div class=\"css-b6n3ve\"><div class=\"css-6v3ju5 e17qa79g0\" span=\"4\"><section class=\"story-wrapper\"><div><div class=\"css-xdandi\"><h3 class=\"indicate-hover css-66vf3i\">Read The Morning</h3></div><div class=\"css-197v62q\"></div><p class=\"summary-class css-1azn4ub\">Donald Trump’s legal problems are growing deeper, German Lopez writes.</p><p class=\"css-1esztn\">6 min read</p></div></section></div><div class=\"css-1fvhbq8 e17qa79g0\" span=\"2\"><figure class=\"css-1uk1gs8\"><div class=\"css-wne2ji\"><picture class=\"css-hdqqnp\"><source class=\"css-hdqqnp\" media=\"screen and (max-width: 600px)\"/><img alt=\"\" class=\"css-dzl7b5\" loading=\"lazy\"/><noscript><img alt=\"\" class=\"css-122y91a\" src=\"https://static01.nyt.com/images/2022/03/15/multimedia/the-morning-icon/the-morning-icon-square320.png?format=pjpg&amp;quality=75&amp;auto=webp&amp;disable=upscale\"/></noscript></picture></div></figure></div></div></a>,\n",
       " <a aria-hidden=\"false\" class=\"css-9mylee\" data-uri=\"nyt://article/592b2d8a-fb8f-538e-930d-7275eaa4ab78\" href=\"https://www.nytimes.com/2023/05/09/business/media/tucker-carlson-twitter-show.html\"><div><div class=\"css-xdandi\"><h3 class=\"indicate-hover css-on97le\">Tucker Carlson, Still Under Contract at Fox, Announces Twitter Show</h3></div><div class=\"css-197v62q\"></div><p class=\"summary-class css-1azn4ub\">Mr. Carlson’s declaration suggested that his negotiations to reach an amicable separation with the network had broken down.</p><p class=\"css-1esztn\">4 min read</p></div></a>,\n",
       " <a aria-hidden=\"false\" class=\"css-9mylee\" data-uri=\"nyt://article/f351c841-16e3-52c0-81fe-35a31f499ad0\" href=\"https://www.nytimes.com/2023/05/10/us/texas-election-laws-houston-harris-county.html\"><div><div class=\"css-xdandi\"><h3 class=\"indicate-hover css-66vf3i\">Texas Republicans Push New Voting Restrictions Aimed at Houston</h3></div><div class=\"css-197v62q\"></div><p class=\"summary-class css-1azn4ub\">The bills propose limits on polling places, tougher penalties for illegal voting and a way for the Republican-led state to order new elections in its largest city.</p><p class=\"css-1esztn\">6 min read</p></div></a>,\n",
       " <a aria-hidden=\"false\" class=\"css-9mylee\" data-uri=\"nyt://article/a2c090b8-2d96-549c-bcf5-885fda4b8c23\" href=\"https://www.nytimes.com/2023/05/10/world/europe/germany-china-sister-cities.html\"><div><div class=\"css-xdandi\"><h3 class=\"indicate-hover css-66vf3i\">Stalled Sister City Plan Reveals New German Wariness of China</h3></div><div class=\"css-197v62q\"></div><p class=\"summary-class css-1azn4ub\">The German port of Kiel and the Chinese port of Qingdao have a lot of things in common. Unfortunately, submarines are among them.</p><p class=\"css-1esztn\">5 min read</p></div></a>,\n",
       " <a aria-hidden=\"false\" class=\"css-9mylee\" data-uri=\"nyt://article/28ba8b50-55c6-5d89-9b6f-a1a5ab26abf0\" href=\"https://www.nytimes.com/2023/05/10/world/asia/india-karnataka-election.html\"><div><div class=\"css-xdandi\"><h3 class=\"indicate-hover css-66vf3i\">More Modi, Less Hindu Nationalism: Reading Tea Leaves in India Vote</h3></div><div class=\"css-197v62q\"></div><p class=\"summary-class css-1azn4ub\">A state election in Karnataka is being watched for what it might say about national elections and Prime Minister Narendra Modi’s prospects next year.</p><p class=\"css-1esztn\">5 min read</p></div><div class=\"css-197v62q\"></div><figure class=\"css-1uk1gs8\"><div class=\"css-ho9dtj\"><picture class=\"css-hdqqnp\"><source class=\"css-hdqqnp\" media=\"screen and (max-width: 600px)\"/><img alt=\"Orange flower petals flutter in the air as Narendra Modi waves to a crowd from the back of a truck.\" class=\"css-dzl7b5\" loading=\"lazy\"/><noscript><img alt=\"Orange flower petals flutter in the air as Narendra Modi waves to a crowd from the back of a truck.\" class=\"css-122y91a\" src=\"https://static01.nyt.com/images/2023/05/10/multimedia/10india-election-01-vgwt/10india-election-01-vgwt-threeByTwoSmallAt2X.jpg?format=pjpg&amp;quality=75&amp;auto=webp&amp;disable=upscale\"/></noscript></picture></div><figcaption aria-hidden=\"true\" class=\"css-1p5yz2j\"><span class=\"css-1j306sm\">Jagadeesh Nv/EPA, via Shutterstock</span></figcaption></figure></a>,\n",
       " <a aria-hidden=\"false\" class=\"css-9mylee\" data-uri=\"nyt://article/ccc49693-020f-5a6f-a22d-9b5f4edbd56c\" href=\"https://www.nytimes.com/2023/05/10/theater/tony-awards-2023-shucked-parade-fat-ham-sweeney-todd-dolls-house.html\"><figure class=\"css-1uk1gs8\"><div class=\"css-sxmela full-width-span-vw container-margin-none\" data-hp-full-width=\"true\"><div class=\"css-wne2ji\"><div></div></div><figcaption aria-hidden=\"true\" class=\"css-1kpof33\"><span class=\"css-1j306sm\">Sasha Arutyunova for The New York Times</span></figcaption></div></figure><div class=\"css-1xnr9ii\"></div><div class=\"css-zirthl\"><h3 class=\"indicate-hover css-155pfad\">5 Tony-Nominated Broadway Shows, 5 Stagecraft Secrets</h3><p class=\"summary-class css-1azn4ub\">What’s on Jessica Chastain’s mind as she spins onstage? Plus: Ben Platt’s silence, all that “Sweeney” blood and more.</p><p class=\"css-1esztn\">10 min read</p></div></a>,\n",
       " <a aria-hidden=\"false\" class=\"css-9mylee\" data-uri=\"nyt://article/eb35c3d8-d571-50b3-bf99-1708d600e3da\" href=\"https://www.nytimes.com/2023/05/10/theater/tony-awards-2023-broadway-critics-picks.html\"><div class=\"css-oz0kdv\"><div class=\"css-8l3tpl e17qa79g0\" span=\"3\"><section class=\"story-wrapper\"><figure class=\"css-1uk1gs8\"><div class=\"css-ho9dtj\"><picture class=\"css-hdqqnp\"><source class=\"css-hdqqnp\" media=\"screen and (max-width: 600px)\"/><img alt=\"\" class=\"css-dzl7b5\" loading=\"lazy\"><noscript><img alt=\"\" class=\"css-122y91a\" src=\"https://static01.nyt.com/images/2023/05/14/multimedia/14TONYS-BALLOT-HP-bcpq/14TONYS-BALLOT-HP-bcpq-threeByTwoSmallAt2X.jpg?format=pjpg&amp;quality=75&amp;auto=webp&amp;disable=upscale\"/></noscript></img></picture></div></figure><div class=\"css-197v62q\"></div><div><div class=\"css-xdandi\"><h3 class=\"indicate-hover css-1gb49m4\">Who Will Win (and Who Should)</h3></div><div class=\"css-j4dysj\"></div><p class=\"summary-class css-1azn4ub\">Our critics offer their picks for this year’s Tony-worthy performances.</p><p class=\"css-1esztn\">4 min read</p></div></section></div></div></a>,\n",
       " <a aria-hidden=\"false\" class=\"css-9mylee\" data-uri=\"nyt://article/f2255fde-d8fb-5998-92c3-21ad6f88b0e0\" href=\"https://www.nytimes.com/2023/05/10/theater/broadway-dance-choreography.html\"><div class=\"css-oz0kdv\"><div class=\"css-8l3tpl e17qa79g0\" span=\"3\"><section class=\"story-wrapper\"><figure class=\"css-1uk1gs8\"><div class=\"css-ho9dtj\"><picture class=\"css-hdqqnp\"><source class=\"css-hdqqnp\" media=\"screen and (max-width: 600px)\"/><img alt=\"In a scene from “New York, New York,” performers dressed as construction workers tap dance on a girder that appears to be high above the Manhattan skyline.\" class=\"css-dzl7b5\" loading=\"lazy\"/><noscript><img alt=\"In a scene from “New York, New York,” performers dressed as construction workers tap dance on a girder that appears to be high above the Manhattan skyline.\" class=\"css-122y91a\" src=\"https://static01.nyt.com/images/2023/05/14/multimedia/14tonys-convo-02-fhqv/14tonys-convo-02-fhqv-threeByTwoSmallAt2X.jpg?format=pjpg&amp;quality=75&amp;auto=webp&amp;disable=upscale\"/></noscript></picture></div></figure><div class=\"css-197v62q\"></div><div><div class=\"css-xdandi\"><h3 class=\"indicate-hover css-1gb49m4\">High Kicks and Low Comedy on Broadway</h3></div><div class=\"css-j4dysj\"></div><p class=\"summary-class css-1azn4ub\">Is choreography at a turning point? Our critics weigh in.</p><p class=\"css-1esztn\">7 min read</p></div></section></div></div></a>,\n",
       " <a aria-hidden=\"false\" class=\"css-9mylee\" data-uri=\"nyt://article/abb1b02e-fc01-5b81-aec1-7217fa908833\" href=\"https://www.nytimes.com/2023/05/10/theater/kimberly-akimbo-victoria-clark.html\"><div class=\"css-oz0kdv\"><div class=\"css-8l3tpl e17qa79g0\" span=\"3\"><section class=\"story-wrapper\"><figure class=\"css-1uk1gs8\"><div class=\"css-ho9dtj\"><picture class=\"css-hdqqnp\"><source class=\"css-hdqqnp\" media=\"screen and (max-width: 600px)\"/><img alt=\"Victoria Clark, a blonde woman in a white dress and heels, stands on a rocky outcropping in Central Park, with trees behind her. \" class=\"css-dzl7b5\" loading=\"lazy\"/><noscript><img alt=\"Victoria Clark, a blonde woman in a white dress and heels, stands on a rocky outcropping in Central Park, with trees behind her. \" class=\"css-122y91a\" src=\"https://static01.nyt.com/images/2023/05/14/multimedia/14TONYS-CLARK-01-kzht/14TONYS-CLARK-01-kzht-threeByTwoSmallAt2X.jpg?format=pjpg&amp;quality=75&amp;auto=webp&amp;disable=upscale\"/></noscript></picture></div></figure><div class=\"css-197v62q\"></div><div><div class=\"css-xdandi\"><h3 class=\"indicate-hover css-1gb49m4\">Victoria Clark Found Her Voice Again</h3></div><div class=\"css-j4dysj\"></div><p class=\"summary-class css-1azn4ub\">The star revived her love of singing with her role in “Kimberly Akimbo.”</p><p class=\"css-1esztn\">7 min read</p></div></section></div></div></a>,\n",
       " <a aria-hidden=\"false\" class=\"css-9mylee\" data-uri=\"nyt://article/20f060e4-07f0-5425-ad2e-8c2fa6f6bba2\" href=\"https://www.nytimes.com/2023/05/10/theater/j-harrison-ghee-some-like-it-hot.html\"><div class=\"css-oz0kdv\"><div class=\"css-8l3tpl e17qa79g0\" span=\"3\"><section class=\"story-wrapper\"><figure class=\"css-1uk1gs8\"><div class=\"css-ho9dtj\"><picture class=\"css-hdqqnp\"><source class=\"css-hdqqnp\" media=\"screen and (max-width: 600px)\"/><img alt=\"J. Harrison Ghee is wearing elbow-length black leopard-print gloves and a strapless black feathered top.\" class=\"css-dzl7b5\" loading=\"lazy\"/><noscript><img alt=\"J. Harrison Ghee is wearing elbow-length black leopard-print gloves and a strapless black feathered top.\" class=\"css-122y91a\" src=\"https://static01.nyt.com/images/2023/05/14/multimedia/14TONYS-GHEE-02-vbcl/14TONYS-GHEE-02-vbcl-threeByTwoSmallAt2X.jpg?format=pjpg&amp;quality=75&amp;auto=webp&amp;disable=upscale\"/></noscript></picture></div></figure><div class=\"css-197v62q\"></div><div><div class=\"css-xdandi\"><h3 class=\"indicate-hover css-1gb49m4\">J. Harrison Ghee Brings Their Whole Self</h3></div><div class=\"css-j4dysj\"></div><p class=\"summary-class css-1azn4ub\">The nonbinary actor is authentic in “Some Like It Hot.”</p><p class=\"css-1esztn\">5 min read</p></div></section></div></div></a>,\n",
       " <a aria-hidden=\"false\" class=\"css-9mylee\" data-uri=\"\" href=\"https://theathletic.com/\"><div class=\"css-1rwxdtx\"><span>The Athletic</span><span class=\"css-v5yrnk\">In-depth sports coverage of your favorite teams and leagues.</span></div></a>,\n",
       " <a aria-hidden=\"false\" class=\"css-9mylee\" data-uri=\"nyt://promo/256e84df-9c0a-52ae-8da5-0747ab4f3388\" href=\"https://theathletic.com/4504685/2023/05/10/oakland-athletics-las-vegas-john-fisher/\"><div><div class=\"css-xdandi\"><h3 class=\"indicate-hover css-on97le\">The Oakland Athletics Want to Relocate. Their Owner Is Defying Logic.</h3></div><div class=\"css-197v62q\"></div><p class=\"summary-class css-1azn4ub\">The payoff for being despised keeps falling for John Fisher. It makes you wonder if it’s worth it, our columnist writes.</p></div><div class=\"css-1xnr9ii\"></div><figure class=\"css-1uk1gs8\"><div class=\"css-ho9dtj\"><picture class=\"css-hdqqnp\"><source class=\"css-hdqqnp\" media=\"screen and (max-width: 600px)\"/><img alt=\"\" class=\"css-dzl7b5\" loading=\"lazy\"/><noscript><img alt=\"\" class=\"css-122y91a\" src=\"https://static01.nyt.com/images/2023/05/10/multimedia/tamc-as-john-fisher-embarrassment/tamc-as-john-fisher-embarrassment-threeByTwoSmallAt2X.jpg?format=pjpg&amp;quality=75&amp;auto=webp&amp;disable=upscale\"/></noscript></picture></div><figcaption aria-hidden=\"true\" class=\"css-1p5yz2j\"><span class=\"css-1j306sm\">Lachlan Cunningham / Getty Images</span></figcaption></figure></a>,\n",
       " <a aria-hidden=\"false\" class=\"css-9mylee\" data-uri=\"nyt://promo/c9c3fff9-c3dd-57af-89b4-0a259d3d22f0\" href=\"https://theathletic.com/4501672/2023/05/09/lakers-warriors-anthony-davis-defense/\"><div><div class=\"css-xdandi\"><h3 class=\"indicate-hover css-66vf3i\">If the Lakers Make the Conference Finals, They Can Thank Anthony Davis</h3></div><div class=\"css-197v62q\"></div><p class=\"summary-class css-1azn4ub\">Davis has demonstrated a knack for making game-changing plays on defense, where Los Angeles is frustrating Golden State.</p></div></a>,\n",
       " <a aria-hidden=\"false\" class=\"css-9mylee\" data-uri=\"nyt://promo/e0031164-ff0b-53ed-938d-f3bb57edbde5\" href=\"https://theathletic.com/4503070/2023/05/09/bob-huggins-west-virginia-homophobic-slur/\"><div><div class=\"css-xdandi\"><h3 class=\"indicate-hover css-66vf3i\">Why Hasn’t West Virginia Fired a Coach After He Used a Homophobic Slur?</h3></div><div class=\"css-197v62q\"></div><p class=\"summary-class css-1azn4ub\">Bob Huggins’s fate comes down to how hard a line the university wants to take against hate speech, our columnist writes.</p></div></a>,\n",
       " <a aria-hidden=\"false\" class=\"css-9mylee\" data-uri=\"nyt://promo/8fdd1553-a244-5663-bc48-371e8051d278\" href=\"https://theathletic.com/4503016/2023/05/10/matthew-tkachuk-florida-panthers-nhl-playoffs/\"><div><div class=\"css-xdandi\"><h3 class=\"indicate-hover css-66vf3i\">This N.H.L. Star Is the Player People Love to Hate</h3></div></div></a>,\n",
       " <a aria-hidden=\"false\" class=\"css-9mylee\" data-uri=\"nyt://promo/5ae3b548-34d5-581f-9683-56bac1f6d6bb\" href=\"https://theathletic.com/4501871/2023/05/10/psg-messi-chaotic-week/\"><div><div class=\"css-xdandi\"><h3 class=\"indicate-hover css-66vf3i\">The Drama Surrounding Lionel Messi’s Club Reaches New Heights</h3></div></div></a>,\n",
       " <a aria-hidden=\"false\" class=\"css-9mylee\" data-uri=\"nyt://promo/5598b609-5c1b-582c-a33f-7c1cceb953de\" href=\"https://theathletic.com/4499457/2023/05/10/nba-in-season-tournament-champions-league/\"><div><div class=\"css-xdandi\"><h3 class=\"indicate-hover css-66vf3i\">How Do Players Feel About the N.B.A. Adopting a European Soccer Concept?</h3></div></div></a>,\n",
       " <a aria-hidden=\"false\" class=\"css-9mylee\" data-uri=\"\" href=\"https://cooking.nytimes.com/\"><div class=\"css-1rwxdtx\"><span>New York Times Cooking</span><span class=\"css-v5yrnk\">Recipes, advice and inspiration for any occasion.</span></div></a>,\n",
       " <a aria-hidden=\"false\" class=\"css-9mylee\" data-uri=\"\" href=\"https://www.nytimes.com/wirecutter/\"><div class=\"css-1rwxdtx\"><span>Recommendations From Wirecutter</span><span class=\"css-v5yrnk\">Independent reviews for thousands of products.</span></div></a>,\n",
       " <a aria-hidden=\"false\" class=\"css-9mylee\" data-uri=\"nyt://promo/c526680a-46b9-5c63-8313-c3aefb0c2df3\" href=\"https://www.nytimes.com/games/wordle/index.html\"><div class=\"css-b6n3ve\"><div class=\"css-6v3ju5 e17qa79g0\" span=\"4\"><section class=\"story-wrapper\"><div><div class=\"css-xdandi\"><h3 class=\"indicate-hover css-66vf3i\">Wordle</h3></div><div class=\"css-197v62q\"></div><p class=\"summary-class css-1azn4ub\">Guess the 5-letter word with 6 chances.</p></div></section></div><div class=\"css-1fvhbq8 e17qa79g0\" span=\"2\"><figure class=\"css-1uk1gs8\"><div class=\"css-wne2ji\"><picture class=\"css-hdqqnp\"><source class=\"css-hdqqnp\" media=\"screen and (max-width: 600px)\"/><img alt=\"\" class=\"css-dzl7b5\" loading=\"lazy\"/><noscript><img alt=\"\" class=\"css-122y91a\" src=\"https://static01.nyt.com/images/2022/03/02/crosswords/alpha-wordle-icon-new/alpha-wordle-icon-new-square320-v3.png?format=pjpg&amp;quality=75&amp;auto=webp&amp;disable=upscale\"/></noscript></picture></div></figure></div></div></a>,\n",
       " <a aria-hidden=\"false\" class=\"css-9mylee\" data-uri=\"nyt://article/8ee205cc-adf9-5102-99fa-df2ac4fdd17a\" href=\"https://www.nytimes.com/2023/05/10/crosswords/wordle-review-answer-690.html\"><div class=\"css-b6n3ve\"><div class=\"css-6v3ju5 e17qa79g0\" span=\"4\"><section class=\"story-wrapper\"><div><div class=\"css-xdandi\"><h3 class=\"indicate-hover css-66vf3i\">Today’s Wordle Review</h3></div><div class=\"css-197v62q\"></div><p class=\"summary-class css-1azn4ub\">Our columnist reviews the day’s puzzle. Warning: Contains spoilers!</p><p class=\"css-1esztn\">2 min read</p></div></section></div><div class=\"css-1fvhbq8 e17qa79g0\" span=\"2\"><figure class=\"css-1uk1gs8\"><div class=\"css-wne2ji\"><picture class=\"css-hdqqnp\"><source class=\"css-hdqqnp\" media=\"screen and (max-width: 600px)\"/><img alt=\"On a muted red background in painterly strokes, three langurs ranging in tone from teal to green run and jump alongside a b-boy dancer wearing a bright magenta hoodie and army green pants. The day's Wordle number is layered on top.\" class=\"css-dzl7b5\" loading=\"lazy\"/><noscript><img alt=\"On a muted red background in painterly strokes, three langurs ranging in tone from teal to green run and jump alongside a b-boy dancer wearing a bright magenta hoodie and army green pants. The day's Wordle number is layered on top.\" class=\"css-122y91a\" src=\"https://static01.nyt.com/images/2023/05/10/crosswords/10wordle-review-art/10wordle-review-art-square320.png?format=pjpg&amp;quality=75&amp;auto=webp&amp;disable=upscale\"/></noscript></picture></div></figure></div></div></a>,\n",
       " <a aria-hidden=\"false\" class=\"css-9mylee\" data-uri=\"nyt://promo/8788a6e9-0db1-5c7c-a8e8-d82c37ccfdd0\" href=\"https://www.nytimes.com/puzzles/spelling-bee\"><div class=\"css-b6n3ve\"><div class=\"css-6v3ju5 e17qa79g0\" span=\"4\"><section class=\"story-wrapper\"><div><div class=\"css-xdandi\"><h3 class=\"indicate-hover css-66vf3i\">Spelling Bee</h3></div><div class=\"css-197v62q\"></div><p class=\"summary-class css-1azn4ub\">How many words can you make with 7 letters?</p></div></section></div><div class=\"css-1fvhbq8 e17qa79g0\" span=\"2\"><figure class=\"css-1uk1gs8\"><div class=\"css-wne2ji\"><picture class=\"css-hdqqnp\"><source class=\"css-hdqqnp\" media=\"screen and (max-width: 600px)\"/><img alt=\"\" class=\"css-dzl7b5\" loading=\"lazy\"/><noscript><img alt=\"\" class=\"css-122y91a\" src=\"https://static01.nyt.com/images/2020/03/23/crosswords/spelling-bee-logo-nytgames-hi-res/spelling-bee-logo-nytgames-hi-res-square320-v4.png?format=pjpg&amp;quality=75&amp;auto=webp&amp;disable=upscale\"/></noscript></picture></div></figure></div></div></a>,\n",
       " <a aria-hidden=\"false\" class=\"css-9mylee\" data-uri=\"nyt://promo/f7f1225d-6bba-5864-ad80-682122a9fbbf\" href=\"https://www.nytimes.com/crosswords\"><div class=\"css-b6n3ve\"><div class=\"css-6v3ju5 e17qa79g0\" span=\"4\"><section class=\"story-wrapper\"><div><div class=\"css-xdandi\"><h3 class=\"indicate-hover css-66vf3i\">The Crossword</h3></div><div class=\"css-197v62q\"></div><p class=\"summary-class css-1azn4ub\">Get clued in with wordplay, every day.</p></div></section></div><div class=\"css-1fvhbq8 e17qa79g0\" span=\"2\"><figure class=\"css-1uk1gs8\"><div class=\"css-wne2ji\"><picture class=\"css-hdqqnp\"><source class=\"css-hdqqnp\" media=\"screen and (max-width: 600px)\"/><img alt=\"\" class=\"css-dzl7b5\" loading=\"lazy\"/><noscript><img alt=\"\" class=\"css-122y91a\" src=\"https://static01.nyt.com/images/2020/03/23/crosswords/crossword-logo-nytgames-hires/crossword-logo-nytgames-hires-square320-v3.png?format=pjpg&amp;quality=75&amp;auto=webp&amp;disable=upscale\"/></noscript></picture></div></figure></div></div></a>,\n",
       " <a aria-hidden=\"false\" class=\"css-9mylee\" data-uri=\"nyt://promo/3f11ff22-8e3d-5a35-aafa-f259336d0e0b\" href=\"https://www.nytimes.com/puzzles/tiles\"><div class=\"css-b6n3ve\"><div class=\"css-6v3ju5 e17qa79g0\" span=\"4\"><section class=\"story-wrapper\"><div><div class=\"css-xdandi\"><h3 class=\"indicate-hover css-66vf3i\">Tiles</h3></div><div class=\"css-197v62q\"></div><p class=\"summary-class css-1azn4ub\">Match visual elements and keep your chain going.</p></div></section></div><div class=\"css-1fvhbq8 e17qa79g0\" span=\"2\"><figure class=\"css-1uk1gs8\"><div class=\"css-wne2ji\"><picture class=\"css-hdqqnp\"><source class=\"css-hdqqnp\" media=\"screen and (max-width: 600px)\"/><img alt=\"\" class=\"css-dzl7b5\" loading=\"lazy\"/><noscript><img alt=\"\" class=\"css-122y91a\" src=\"https://static01.nyt.com/images/2020/03/23/crosswords/tiles-logo-nytgames-hi-res/tiles-logo-nytgames-hi-res-square320-v4.png?format=pjpg&amp;quality=75&amp;auto=webp&amp;disable=upscale\"/></noscript></picture></div></figure></div></div></a>,\n",
       " <a aria-hidden=\"false\" class=\"css-9mylee\" data-uri=\"nyt://promo/d1e103a6-9339-5a49-b15d-44883e243753\" href=\"https://www.nytimes.com/puzzles/letter-boxed\"><div class=\"css-b6n3ve\"><div class=\"css-6v3ju5 e17qa79g0\" span=\"4\"><section class=\"story-wrapper\"><div><div class=\"css-xdandi\"><h3 class=\"indicate-hover css-66vf3i\">Letter Boxed</h3></div><div class=\"css-197v62q\"></div><p class=\"summary-class css-1azn4ub\">Create words using letters around the square.</p></div></section></div><div class=\"css-1fvhbq8 e17qa79g0\" span=\"2\"><figure class=\"css-1uk1gs8\"><div class=\"css-wne2ji\"><picture class=\"css-hdqqnp\"><source class=\"css-hdqqnp\" media=\"screen and (max-width: 600px)\"/><img alt=\"\" class=\"css-dzl7b5\" loading=\"lazy\"/><noscript><img alt=\"\" class=\"css-122y91a\" src=\"https://static01.nyt.com/images/2021/05/27/multimedia/alpha-letterboxed-promo-1622145789727/alpha-letterboxed-promo-1622145789727-square320.png?format=pjpg&amp;quality=75&amp;auto=webp&amp;disable=upscale\"/></noscript></picture></div></figure></div></div></a>]"
      ]
     },
     "execution_count": 28,
     "metadata": {},
     "output_type": "execute_result"
    }
   ],
   "source": [
    "article_links = soup.find_all('a', class_='css-9mylee')\n",
    "article_links"
   ]
  },
  {
   "cell_type": "code",
   "execution_count": 30,
   "id": "feb2f420-3333-451f-8b1f-42a8f15043ec",
   "metadata": {},
   "outputs": [
    {
     "data": {
      "text/plain": [
       "'https://www.nytimes.com/live/2023/05/10/business/cpi-inflation-fed'"
      ]
     },
     "execution_count": 30,
     "metadata": {},
     "output_type": "execute_result"
    }
   ],
   "source": [
    "article_links[0]['href']"
   ]
  },
  {
   "cell_type": "code",
   "execution_count": 32,
   "id": "b97ed57e-84be-492a-af6a-dfb598e55ea3",
   "metadata": {},
   "outputs": [
    {
     "name": "stdout",
     "output_type": "stream",
     "text": [
      "https://www.nytimes.com/live/2023/05/10/business/cpi-inflation-fed\n",
      "https://www.nytimes.com/live/2023/05/10/nyregion/george-santos-charges-news\n",
      "https://www.nytimes.com/live/2023/05/10/nyregion/george-santos-charges-news\n",
      "https://www.nytimes.com/2023/05/10/nyregion/george-santos-charges.html\n",
      "https://www.nytimes.com/interactive/2023/05/10/nyregion/george-santos-indictment.html\n",
      "https://www.nytimes.com/live/2023/05/10/business/cpi-inflation-fed\n",
      "https://www.nytimes.com/2023/05/10/us/politics/covid-public-health-emergency.html\n",
      "https://www.nytimes.com/2023/05/10/nyregion/covid-public-health-emergency-end-nyc.html\n",
      "https://www.nytimes.com/2023/05/10/us/politics/trump-carroll-verdict-campaign.html\n",
      "https://www.nytimes.com/2023/05/10/nyregion/trump-carroll-truth-social.html\n",
      "https://www.nytimes.com/2023/05/10/podcasts/the-daily/e-jean-carroll-trump-verdict.html\n",
      "https://www.nytimes.com/2023/05/10/business/cnn-trump-town-hall.html\n",
      "https://www.nytimes.com/2023/05/10/science/pangenome-human-dna-genetics.html\n",
      "https://www.nytimes.com/2023/05/10/business/live-shopping-us.html\n",
      "https://www.nytimes.com/2023/05/10/world/europe/ukraine-russia-kherson-killing.html\n",
      "https://www.nytimes.com/live/2023/05/10/world/russia-ukraine-news\n",
      "https://www.nytimes.com/2023/05/10/business/biden-debt-ceiling.html\n",
      "https://www.nytimes.com/interactive/2023/05/09/magazine/hurricane-saildrone.html\n",
      "https://www.nytimes.com/2023/05/10/magazine/buffalo-shooting-barbara-massey-mapps.html\n",
      "https://www.nytimes.com/live/2023/05/09/sports/westminster-dog-show\n",
      "https://www.nytimes.com/2023/05/10/world/middleeast/cleopatra-netflix-race-egypt.html\n",
      "https://www.nytimes.com/2023/05/10/magazine/grandchildren-stalking-custody-ethics.html\n",
      "https://www.nytimes.com/2023/05/10/world/middleeast/fruit-roll-ups-smuggle-israel-tiktok.html\n",
      "https://www.nytimes.com/section/opinion\n",
      "https://www.nytimes.com/2023/05/10/opinion/e-jean-carroll-donald-trump-verdict.html\n",
      "https://www.nytimes.com/2023/05/09/opinion/jordan-neely-subway-death.html\n",
      "https://www.nytimes.com/2023/05/10/opinion/matter-of-opinion.html\n",
      "https://www.nytimes.com/2023/05/10/opinion/christian-religion-brand-nones.html\n",
      "https://www.nytimes.com/2023/05/10/opinion/letters/debt-limit-biden-mccarthy.html\n",
      "https://www.nytimes.com/2023/05/09/opinion/russia-war-ukraine-nuclear.html\n",
      "https://www.nytimes.com/2023/05/09/opinion/urban-gardens-rewilding-cities-biodiversity.html\n",
      "https://www.nytimes.com/interactive/2023/05/09/opinion/union-members-focus-group.html\n",
      "https://www.nytimes.com/2023/05/09/opinion/climate-inflation-reduction-act-biden.html\n",
      "https://www.nytimes.com/2023/05/10/podcasts/the-daily/e-jean-carroll-trump-verdict.html\n",
      "https://www.nytimes.com/2023/05/10/briefing/e-jean-carroll-trump-liable-sexual-abuse.html\n",
      "https://www.nytimes.com/2023/05/09/business/media/tucker-carlson-twitter-show.html\n",
      "https://www.nytimes.com/2023/05/10/us/texas-election-laws-houston-harris-county.html\n",
      "https://www.nytimes.com/2023/05/10/world/europe/germany-china-sister-cities.html\n",
      "https://www.nytimes.com/2023/05/10/world/asia/india-karnataka-election.html\n",
      "https://www.nytimes.com/2023/05/10/theater/tony-awards-2023-shucked-parade-fat-ham-sweeney-todd-dolls-house.html\n",
      "https://www.nytimes.com/2023/05/10/theater/tony-awards-2023-broadway-critics-picks.html\n",
      "https://www.nytimes.com/2023/05/10/theater/broadway-dance-choreography.html\n",
      "https://www.nytimes.com/2023/05/10/theater/kimberly-akimbo-victoria-clark.html\n",
      "https://www.nytimes.com/2023/05/10/theater/j-harrison-ghee-some-like-it-hot.html\n",
      "https://theathletic.com/\n",
      "https://theathletic.com/4504685/2023/05/10/oakland-athletics-las-vegas-john-fisher/\n",
      "https://theathletic.com/4501672/2023/05/09/lakers-warriors-anthony-davis-defense/\n",
      "https://theathletic.com/4503070/2023/05/09/bob-huggins-west-virginia-homophobic-slur/\n",
      "https://theathletic.com/4503016/2023/05/10/matthew-tkachuk-florida-panthers-nhl-playoffs/\n",
      "https://theathletic.com/4501871/2023/05/10/psg-messi-chaotic-week/\n",
      "https://theathletic.com/4499457/2023/05/10/nba-in-season-tournament-champions-league/\n",
      "https://cooking.nytimes.com/\n",
      "https://www.nytimes.com/wirecutter/\n",
      "https://www.nytimes.com/games/wordle/index.html\n",
      "https://www.nytimes.com/2023/05/10/crosswords/wordle-review-answer-690.html\n",
      "https://www.nytimes.com/puzzles/spelling-bee\n",
      "https://www.nytimes.com/crosswords\n",
      "https://www.nytimes.com/puzzles/tiles\n",
      "https://www.nytimes.com/puzzles/letter-boxed\n"
     ]
    }
   ],
   "source": [
    "for element in article_links:\n",
    "    print(element['href'])"
   ]
  },
  {
   "cell_type": "code",
   "execution_count": 33,
   "id": "1550e366-8b3f-4da6-9621-ebce5d5e5b26",
   "metadata": {},
   "outputs": [
    {
     "data": {
      "text/plain": [
       "['https://www.nytimes.com/live/2023/05/10/business/cpi-inflation-fed',\n",
       " 'https://www.nytimes.com/live/2023/05/10/nyregion/george-santos-charges-news',\n",
       " 'https://www.nytimes.com/live/2023/05/10/nyregion/george-santos-charges-news',\n",
       " 'https://www.nytimes.com/2023/05/10/nyregion/george-santos-charges.html',\n",
       " 'https://www.nytimes.com/interactive/2023/05/10/nyregion/george-santos-indictment.html',\n",
       " 'https://www.nytimes.com/live/2023/05/10/business/cpi-inflation-fed',\n",
       " 'https://www.nytimes.com/2023/05/10/us/politics/covid-public-health-emergency.html',\n",
       " 'https://www.nytimes.com/2023/05/10/nyregion/covid-public-health-emergency-end-nyc.html',\n",
       " 'https://www.nytimes.com/2023/05/10/us/politics/trump-carroll-verdict-campaign.html',\n",
       " 'https://www.nytimes.com/2023/05/10/nyregion/trump-carroll-truth-social.html',\n",
       " 'https://www.nytimes.com/2023/05/10/podcasts/the-daily/e-jean-carroll-trump-verdict.html',\n",
       " 'https://www.nytimes.com/2023/05/10/business/cnn-trump-town-hall.html',\n",
       " 'https://www.nytimes.com/2023/05/10/science/pangenome-human-dna-genetics.html',\n",
       " 'https://www.nytimes.com/2023/05/10/business/live-shopping-us.html',\n",
       " 'https://www.nytimes.com/2023/05/10/world/europe/ukraine-russia-kherson-killing.html',\n",
       " 'https://www.nytimes.com/live/2023/05/10/world/russia-ukraine-news',\n",
       " 'https://www.nytimes.com/2023/05/10/business/biden-debt-ceiling.html',\n",
       " 'https://www.nytimes.com/interactive/2023/05/09/magazine/hurricane-saildrone.html',\n",
       " 'https://www.nytimes.com/2023/05/10/magazine/buffalo-shooting-barbara-massey-mapps.html',\n",
       " 'https://www.nytimes.com/live/2023/05/09/sports/westminster-dog-show',\n",
       " 'https://www.nytimes.com/2023/05/10/world/middleeast/cleopatra-netflix-race-egypt.html',\n",
       " 'https://www.nytimes.com/2023/05/10/magazine/grandchildren-stalking-custody-ethics.html',\n",
       " 'https://www.nytimes.com/2023/05/10/world/middleeast/fruit-roll-ups-smuggle-israel-tiktok.html',\n",
       " 'https://www.nytimes.com/section/opinion',\n",
       " 'https://www.nytimes.com/2023/05/10/opinion/e-jean-carroll-donald-trump-verdict.html',\n",
       " 'https://www.nytimes.com/2023/05/09/opinion/jordan-neely-subway-death.html',\n",
       " 'https://www.nytimes.com/2023/05/10/opinion/matter-of-opinion.html',\n",
       " 'https://www.nytimes.com/2023/05/10/opinion/christian-religion-brand-nones.html',\n",
       " 'https://www.nytimes.com/2023/05/10/opinion/letters/debt-limit-biden-mccarthy.html',\n",
       " 'https://www.nytimes.com/2023/05/09/opinion/russia-war-ukraine-nuclear.html',\n",
       " 'https://www.nytimes.com/2023/05/09/opinion/urban-gardens-rewilding-cities-biodiversity.html',\n",
       " 'https://www.nytimes.com/interactive/2023/05/09/opinion/union-members-focus-group.html',\n",
       " 'https://www.nytimes.com/2023/05/09/opinion/climate-inflation-reduction-act-biden.html',\n",
       " 'https://www.nytimes.com/2023/05/10/podcasts/the-daily/e-jean-carroll-trump-verdict.html',\n",
       " 'https://www.nytimes.com/2023/05/10/briefing/e-jean-carroll-trump-liable-sexual-abuse.html',\n",
       " 'https://www.nytimes.com/2023/05/09/business/media/tucker-carlson-twitter-show.html',\n",
       " 'https://www.nytimes.com/2023/05/10/us/texas-election-laws-houston-harris-county.html',\n",
       " 'https://www.nytimes.com/2023/05/10/world/europe/germany-china-sister-cities.html',\n",
       " 'https://www.nytimes.com/2023/05/10/world/asia/india-karnataka-election.html',\n",
       " 'https://www.nytimes.com/2023/05/10/theater/tony-awards-2023-shucked-parade-fat-ham-sweeney-todd-dolls-house.html',\n",
       " 'https://www.nytimes.com/2023/05/10/theater/tony-awards-2023-broadway-critics-picks.html',\n",
       " 'https://www.nytimes.com/2023/05/10/theater/broadway-dance-choreography.html',\n",
       " 'https://www.nytimes.com/2023/05/10/theater/kimberly-akimbo-victoria-clark.html',\n",
       " 'https://www.nytimes.com/2023/05/10/theater/j-harrison-ghee-some-like-it-hot.html',\n",
       " 'https://theathletic.com/',\n",
       " 'https://theathletic.com/4504685/2023/05/10/oakland-athletics-las-vegas-john-fisher/',\n",
       " 'https://theathletic.com/4501672/2023/05/09/lakers-warriors-anthony-davis-defense/',\n",
       " 'https://theathletic.com/4503070/2023/05/09/bob-huggins-west-virginia-homophobic-slur/',\n",
       " 'https://theathletic.com/4503016/2023/05/10/matthew-tkachuk-florida-panthers-nhl-playoffs/',\n",
       " 'https://theathletic.com/4501871/2023/05/10/psg-messi-chaotic-week/',\n",
       " 'https://theathletic.com/4499457/2023/05/10/nba-in-season-tournament-champions-league/',\n",
       " 'https://cooking.nytimes.com/',\n",
       " 'https://www.nytimes.com/wirecutter/',\n",
       " 'https://www.nytimes.com/games/wordle/index.html',\n",
       " 'https://www.nytimes.com/2023/05/10/crosswords/wordle-review-answer-690.html',\n",
       " 'https://www.nytimes.com/puzzles/spelling-bee',\n",
       " 'https://www.nytimes.com/crosswords',\n",
       " 'https://www.nytimes.com/puzzles/tiles',\n",
       " 'https://www.nytimes.com/puzzles/letter-boxed']"
      ]
     },
     "execution_count": 33,
     "metadata": {},
     "output_type": "execute_result"
    }
   ],
   "source": [
    "link_list = []\n",
    "\n",
    "for element in article_links:\n",
    "    link_list.append(element['href'])\n",
    "    \n",
    "link_list"
   ]
  },
  {
   "cell_type": "code",
   "execution_count": 35,
   "id": "18823087-4f8d-4e6a-b01f-9fce8354bb8b",
   "metadata": {},
   "outputs": [
    {
     "data": {
      "text/plain": [
       "'https://www.nytimes.com/live/2023/05/10/business/cpi-inflation-fed'"
      ]
     },
     "execution_count": 35,
     "metadata": {},
     "output_type": "execute_result"
    }
   ],
   "source": [
    "link_list[0]"
   ]
  },
  {
   "cell_type": "code",
   "execution_count": 36,
   "id": "a221043f-298f-47e5-8068-6cb6f0bb33d1",
   "metadata": {},
   "outputs": [
    {
     "data": {
      "text/plain": [
       "<Response [403]>"
      ]
     },
     "execution_count": 36,
     "metadata": {},
     "output_type": "execute_result"
    }
   ],
   "source": [
    "url = link_list[0]\n",
    "\n",
    "response = requests.get(url)\n",
    "response"
   ]
  },
  {
   "cell_type": "code",
   "execution_count": null,
   "id": "7d406dcd-ea3c-4726-b996-853e71c067f6",
   "metadata": {},
   "outputs": [],
   "source": []
  },
  {
   "cell_type": "code",
   "execution_count": null,
   "id": "eea56a8f-85f3-470f-a503-276015faa28c",
   "metadata": {},
   "outputs": [],
   "source": []
  },
  {
   "cell_type": "code",
   "execution_count": null,
   "id": "1a15c2cf-be4a-4570-9e7d-0239898d5eed",
   "metadata": {},
   "outputs": [],
   "source": []
  },
  {
   "cell_type": "code",
   "execution_count": null,
   "id": "2c18fc9b-0b63-4355-b7fa-97ed298398b9",
   "metadata": {},
   "outputs": [],
   "source": []
  },
  {
   "cell_type": "code",
   "execution_count": null,
   "id": "546e2b1e-45a9-48d6-9ebf-2348475ac413",
   "metadata": {},
   "outputs": [],
   "source": []
  },
  {
   "cell_type": "code",
   "execution_count": null,
   "id": "8f003902-c191-4118-bd57-8035d8ce0058",
   "metadata": {},
   "outputs": [],
   "source": []
  },
  {
   "cell_type": "code",
   "execution_count": null,
   "id": "5c9f11dc-3dc5-44ea-ad76-9f688ff26dcc",
   "metadata": {},
   "outputs": [],
   "source": []
  },
  {
   "cell_type": "code",
   "execution_count": null,
   "id": "0d8324a7-79ea-4963-82dd-bf4f0944ee22",
   "metadata": {},
   "outputs": [],
   "source": []
  },
  {
   "cell_type": "code",
   "execution_count": null,
   "id": "45ba649f-6ef8-47ed-b627-eba797f01511",
   "metadata": {},
   "outputs": [],
   "source": []
  },
  {
   "cell_type": "code",
   "execution_count": null,
   "id": "b3da62bf-db5f-4dad-83cc-3b019d99bf45",
   "metadata": {},
   "outputs": [],
   "source": []
  },
  {
   "cell_type": "code",
   "execution_count": null,
   "id": "103edc21-9229-4465-82f8-b07ff1d79a4b",
   "metadata": {},
   "outputs": [],
   "source": []
  },
  {
   "cell_type": "code",
   "execution_count": null,
   "id": "0dc65a69-e435-4c3d-9c8d-e2be270cc96d",
   "metadata": {},
   "outputs": [],
   "source": []
  },
  {
   "cell_type": "code",
   "execution_count": null,
   "id": "56a0e576-5e73-46ae-9fb4-cb062ceb3d2a",
   "metadata": {},
   "outputs": [],
   "source": []
  },
  {
   "cell_type": "code",
   "execution_count": null,
   "id": "9523e194-f3a4-41e0-980a-6fe6c6577887",
   "metadata": {},
   "outputs": [],
   "source": []
  },
  {
   "cell_type": "code",
   "execution_count": null,
   "id": "da4f963e-db4d-4461-9b8d-976909fce899",
   "metadata": {},
   "outputs": [],
   "source": []
  },
  {
   "cell_type": "code",
   "execution_count": null,
   "id": "f4639513-cc77-4eb0-9221-a5f17f5c343e",
   "metadata": {},
   "outputs": [],
   "source": []
  }
 ],
 "metadata": {
  "kernelspec": {
   "display_name": "Python 3 (ipykernel)",
   "language": "python",
   "name": "python3"
  },
  "language_info": {
   "codemirror_mode": {
    "name": "ipython",
    "version": 3
   },
   "file_extension": ".py",
   "mimetype": "text/x-python",
   "name": "python",
   "nbconvert_exporter": "python",
   "pygments_lexer": "ipython3",
   "version": "3.9.13"
  }
 },
 "nbformat": 4,
 "nbformat_minor": 5
}
